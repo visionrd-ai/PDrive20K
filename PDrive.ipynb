{
 "cells": [
  {
   "cell_type": "markdown",
   "id": "266cc6fd",
   "metadata": {},
   "source": [
    "<div style=\"text-align:center\">\n",
    "  <img src=\"./gitdata/Screenshot from 2023-10-05 16-37-09.png\" alt=\"Pakistan Road\" />\n",
    "</div>"
   ]
  },
  {
   "cell_type": "markdown",
   "id": "559333f3",
   "metadata": {},
   "source": [
    "## Pakistan's First Publicly Available Autonomous Driving Dataset\n",
    "Welcome to Pakistan's inaugural publicly available autonomous driving dataset, featuring an extensive range of diverse scenes and the multifaceted road environments and conditions that define the Pakistani landscape. This dataset is a valuable resource for researchers and autonomous driving companies, offering a comprehensive view of the challenges and opportunities unique to Pakistan's roads. Whether you're exploring the intricacies of urban traffic, navigating through rugged terrains, or braving the bustling streets of Pakistani cities, this dataset provides a rich source of data to advance the development of autonomous driving technologies tailored to this distinctive region. Join us on this journey as we delve into the heart of Pakistan's roads and drive innovation forward."
   ]
  },
  {
   "cell_type": "markdown",
   "id": "6abf7439",
   "metadata": {},
   "source": [
    "<div style=\"text-align:center\">\n",
    "  <img src=\"/gitdata/Screenshot%20from%202023-10-05%2013-12-24.png\" alt=\"Pakistan Road\" />\n",
    "  <p style=\"text-align:center\">A scenic view of Pakistani road.</p>\n",
    "</div>"
   ]
  },
  {
   "cell_type": "markdown",
   "id": "744e53aa",
   "metadata": {},
   "source": [
    "<div style=\"text-align:center\">\n",
    "  <img src=\"./gitdata/BeFunky-collage.jpg\" alt=\"Pakistan Road\" />\n",
    "  <p style=\"text-align:center\">A Cart on road of Pakistan</p>\n",
    "</div>"
   ]
  },
  {
   "cell_type": "markdown",
   "id": "e87b0c70",
   "metadata": {},
   "source": [
    "The autonomous driving dataset from Pakistan is a treasure trove of diverse and unique data, offering a rich tapestry of scenes and conditions that reflect the intricacies of Pakistan's roadways. From the bustling streets of major cities to the serene landscapes of rural areas, this dataset encapsulates the essence of Pakistan's road environments. Here's a glimpse into the remarkable diversity it encompasses:\n",
    "\n",
    "**24 Unique Sequences:** With 24 distinct sequences, this dataset provides a comprehensive view of Pakistan's roads in various scenarios and conditions.\n",
    "\n",
    "**Day and Night Data:** The dataset captures the stark contrast between day and night driving conditions. With scenes ranging from the vibrant hues of daylight to the challenges of low-light and nighttime driving, researchers and autonomous driving companies gain insights into adapting their algorithms and sensors for different lighting conditions.\n",
    "\n",
    "**Uncommon Construction Vehicles:** Pakistan's construction industry boasts a fascinating array of vehicles rarely seen in other environments. From distinctive bulldozers to specialized excavation equipment, this dataset provides a unique opportunity to train autonomous systems to recognize and navigate around these unconventional vehicles.\n",
    "\n",
    "**Auto Rickshaws:** A common sight on Pakistani roads, auto rickshaws present a unique challenge due to their nimble nature and frequent stops. The dataset includes data on these three-wheeled vehicles, allowing developers to enhance the safety and efficiency of autonomous vehicles around them.\n",
    "\n",
    "**Pedestrians in Traditional Clothing:** Pakistan's rich cultural diversity is on full display, with pedestrians donning traditional attire like shalwar kameez and burkha. Recognizing and responding to individuals in traditional clothing is crucial for the safety of autonomous vehicles, and this dataset offers ample opportunities for training such recognition systems.\n",
    "\n",
    "**Trucks Adorned with Traditional Truck Art:** Pakistan's iconic truck art adorns countless commercial vehicles, transforming them into vibrant and intricately decorated masterpieces. This dataset features these ornate trucks, enabling developers to build models that can identify and interact with them, further enriching the autonomous driving experience in Pakistan.\n",
    "\n",
    "By showcasing Pakistan's roadways in all their diversity, this dataset empowers researchers and companies to develop autonomous driving solutions that are not only safe and efficient but also culturally attuned to the unique challenges and beauty of Pakistan's roads. It marks a significant step towards a future where autonomous vehicles seamlessly navigate the intricacies of the Pakistani road environment, enhancing transportation and safety across the nation.\n",
    "\n",
    "\n",
    "\n",
    "\n"
   ]
  },
  {
   "cell_type": "markdown",
   "id": "44777967",
   "metadata": {},
   "source": [
    "<div style=\"text-align:center\">\n",
    "  <img src=\"./gitdata/13.gif\" alt=\"Pakistan Road\" />\n",
    "  <img src=\"./gitdata/11.gif\" alt=\"Pakistan Road\" />\n",
    "</div>\n",
    "\n"
   ]
  },
  {
   "cell_type": "markdown",
   "id": "7bb2843f",
   "metadata": {},
   "source": [
    "<div style=\"display: flex; justify-content: flex-start; align-items: center;\">\n",
    "  <a href=\"https://visionrdai.com/\" style=\"text-decoration:none;\">\n",
    "    <img src=\"94953978.png\" width=\"30%\" alt=\"\" />\n",
    "  </a>\n",
    "    \n",
    "  <a href=\"https://github.com/visionrd-ai\" style=\"text-decoration:none;\">\n",
    "    <img src=\"https://play-lh.googleusercontent.com/PCpXdqvUWfCW1mXhH1Y_98yBpgsWxuTSTofy3NGMo9yBTATDyzVkqU580bfSln50bFU\" width=\"13%\" alt=\"\" />\n",
    "  </a>\n",
    "  \n",
    "  <a href=\"https://www.linkedin.com/company/visionrd-ai/?originalSubdomain=pk\" style=\"text-decoration:none;\">\n",
    "    <img src=\"https://cdn-icons-png.flaticon.com/512/61/61109.png\" width=\"13%\" alt=\"\" />\n",
    "  </a>\n",
    "  \n",
    "  <a href=\"https://www.youtube.com/channel/UC815H6W4dvv9PB6sp39D2lg\" style=\"text-decoration:none;\">\n",
    "    <img src=\"https://cdn-icons-png.flaticon.com/512/48/48968.png\" width=\"13%\" alt=\"\" />\n",
    "  </a>\n",
    "</div>"
   ]
  }
 ],
 "metadata": {
  "kernelspec": {
   "display_name": "Python 3 (ipykernel)",
   "language": "python",
   "name": "python3"
  },
  "language_info": {
   "codemirror_mode": {
    "name": "ipython",
    "version": 3
   },
   "file_extension": ".py",
   "mimetype": "text/x-python",
   "name": "python",
   "nbconvert_exporter": "python",
   "pygments_lexer": "ipython3",
   "version": "3.11.4"
  }
 },
 "nbformat": 4,
 "nbformat_minor": 5
}
